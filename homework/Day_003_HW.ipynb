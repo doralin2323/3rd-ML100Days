{
 "cells": [
  {
   "cell_type": "markdown",
   "metadata": {},
   "source": [
    "## [作業目標]\n",
    "持續接觸有關機器學習的相關專案與最新技術"
   ]
  },
  {
   "cell_type": "markdown",
   "metadata": {},
   "source": [
    "## [作業重點]\n",
    "透過觀察頂尖公司的機器學習文章，來了解各公司是怎麼應用機器學習在實際的專案上"
   ]
  },
  {
   "cell_type": "markdown",
   "metadata": {},
   "source": [
    "## [作業]\n",
    "今天的作業希望大家能夠看看全球機器學習巨頭們在做的機器學習專案。以 google 為例，下圖是 Google 內部專案使用機器學習的數量，隨著時間進展，現在早已超過 2000 個專案在使用機器學習。"
   ]
  },
  {
   "cell_type": "markdown",
   "metadata": {},
   "source": [
    "![image](https://cdn-images-1.medium.com/max/800/1*U_L8qI8RmYS-MOBrYvXhSA.png)"
   ]
  },
  {
   "cell_type": "markdown",
   "metadata": {},
   "source": [
    "底下幫同學整理幾間知名企業的 blog 或機器學習網站 (自行搜尋也可)，這些網站都會整理最新的機器學習專案或者是技術文章，請挑選一篇文章閱讀並試著回答\n",
    "1. 專案的目標？ (要解決什麼問題）\n",
    "2. 使用的技術是？ (只需知道名稱即可，例如：使用 CNN 卷積神經網路做影像分類)\n",
    "3. 資料來源？ "
   ]
  },
  {
   "cell_type": "markdown",
   "metadata": {},
   "source": [
    "- [Google AI blog](https://ai.googleblog.com/)\n",
    "- [Facebook Research blog](https://research.fb.com/blog/)\n",
    "- [Apple machine learning journal](https://machinelearning.apple.com/)\n",
    "- [機器之心](https://www.jiqizhixin.com/)\n",
    "- [雷鋒網](http://www.leiphone.com/category/ai)"
   ]
  },
  {
   "cell_type": "code",
   "execution_count": null,
   "metadata": {},
   "outputs": [],
   "source": [
    "1.圖像增強、視頻傳輸\n",
    "2.CNN進行超分辨\n",
    "3.3篇博文: 2019年最新進展\n",
    "\n",
    "超分辨CVPR2019論文大盤點\n",
    "\n",
    "CVPR2019 | 步步為營！通過迭代式模糊核預測提高超分辨質量\n",
    "\n",
    "CVPR2019 | 基於多級神經紋理遷移的圖像超分辨方法\n",
    "\n",
    "2篇綜述: 深度學習超分辨\n",
    "\n",
    "楊偉，張曦，田妍，等。單像超分辨率的深度學習：簡要回顧[J]。IEEE Transactions on Multimedia，2019。\n",
    "\n",
    "Wang Z，Chen J，Hoi SC H.深度學習圖像超分辨率：一項調查[J]。arXiv preprint arXiv：1902.06068,2019。\n",
    "\n",
    "10個模型: 從SRCNN到DBPN\n",
    "\n",
    "Dong C，Loy CC，He K，et al。使用深度卷積網絡的圖像超分辨率[J]。關於模式分析和機器智能的IEEE交易，2015,38（2）：295-307。（SRCNN）\n",
    "\n",
    "Dong C，Loy CC，Tang X.加速超分辨率卷積神經網絡[C]。歐洲計算機視覺會議。Springer，Cham，2016：391-407。（FSRCNN）\n",
    "\n",
    "Shi W，Caballero J，HuszárF，et al。使用有效的子像素卷積神經網絡的實時單圖像和視頻超分辨率[C]。IEEE計算機視覺和模式識別會議論文集。2016年：1874-1883。（ESPCN）\n",
    "\n",
    "Kim J，Kwon Lee J，Mu Lee K.使用非常深的捲積網絡準確的圖像超分辨率[C]。IEEE計算機視覺和模式識別會議論文集。2016年：1646-1654。（VDSR）\n",
    "\n",
    "Kim J，Kwon Lee J，Mu Lee K.用於圖像超分辨率的深度遞歸卷積網絡[C]。IEEE計算機視覺和模式識別會議論文集。2016年：1637-1645。（DRCN）\n",
    "\n",
    "Tai Y，Yang J，Liu X.通過深度遞歸殘差網絡的圖像超分辨率[C]。IEEE計算機視覺和模式識別會議論文集。2017年：3147-3155。（DRRN）\n",
    "\n",
    "Lai WS，Huang JB，Ahuja N，et al。深拉普拉斯金字塔網絡，可實現快速準確的超分辨率[C]。IEEE計算機視覺和模式識別會議論文集。2017：624-632。（LapSRN）\n",
    "\n",
    "Ledig C，Theis L，HuszárF，et al。使用生成對抗網絡的照片般逼真的單圖像超分辨率[C]。IEEE計算機視覺和模式識別會議論文集。2017：4681-4690。（SRGAN）\n",
    "\n",
    "童彤，李庚，劉昕，等。使用密集跳過連接的圖像超分辨率[C]。IEEE國際計算機視覺會議論文集。2017：4799-4807。（SRDenseNet）\n",
    "\n",
    "Haris M，Shakhnarovich G，Ukita N.超分辨率的深背投影網絡[C]。IEEE計算機視覺和模式識別會議論文集。2018：1664-1673。（DBPN）"
   ]
  }
 ],
 "metadata": {
  "kernelspec": {
   "display_name": "Python 3",
   "language": "python",
   "name": "python3"
  },
  "language_info": {
   "codemirror_mode": {
    "name": "ipython",
    "version": 3
   },
   "file_extension": ".py",
   "mimetype": "text/x-python",
   "name": "python",
   "nbconvert_exporter": "python",
   "pygments_lexer": "ipython3",
   "version": "3.7.3"
  }
 },
 "nbformat": 4,
 "nbformat_minor": 2
}
